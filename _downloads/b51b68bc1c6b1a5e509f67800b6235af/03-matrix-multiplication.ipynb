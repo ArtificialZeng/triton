{
  "cells": [
    {
      "cell_type": "code",
      "execution_count": null,
      "metadata": {
        "collapsed": false
      },
      "outputs": [],
      "source": [
        "%matplotlib inline"
      ]
    },
    {
      "cell_type": "markdown",
      "metadata": {},
      "source": [
        "\n# Matrix Multiplication\nIn this tutorial, you will write a 25-lines high-performance matrix multiplication kernel that outperforms CUTLASS and falls just short of matching cuBLAS's performance.\nYou will specifically learn about:\n\n- The block-level matrix multiplication operator `@`\n- Multi-dimensional pointer arithmetic\n- Program re-ordering for improved L2 cache hit rate \n- Automatic performance tuning\n"
      ]
    },
    {
      "cell_type": "markdown",
      "metadata": {},
      "source": [
        "## Motivations\nMatrix multiplications are a key building block of most modern high-performance computing systems.\nThey are notoriously hard to optimize, hence their implementation is typically done by hardware vendors themselves as part of so-called \"kernel libraries\" (e.g., cuBLAS).\nUnfortunately, these libraries are often proprietary and cannot be customized to accomodate the needs of modern deep learning workloads (e.g., mixture of experts, fused activation functions, etc.).\nFor this reason, this tutorial will show you how to implement efficient matrix multiplications yourself with Triton, in a way that is easy to customize and extend.\n\nRoughly speaking, the kernel that we will write will implement the following blocked algorithm:\n\n .. code-block:: python\n\n   # do in parallel\n   for m in range(0, M, MB):\n     # do in parallel\n     for n in range(0, N, NB):\n       acc = zeros((MB, NB), dtype=float32)\n       for k in range(0, K, KB):\n         acc += A[m : m+MB, k : k+KB] @  B[k : k+KB, n : n+NB]\n       C[m : m+MB, n : n+NB] = acc;\n\nwhere each iteration of the doubly-nested for-loops corresponds to a Triton program instance.\n\n"
      ]
    },
    {
      "cell_type": "markdown",
      "metadata": {},
      "source": [
        "## Compute Kernel\n\nThe above algorithm is actually fairly straightforward to implement in Triton, as we can simply use the :code:`@` operator for block-level matrix multiplication.\nThe main difficulty comes from the 2D pointer arithmetic that must be done to specify the memory locations of the tiles of :code:`A` and :code:`B` that we need to read in the inner loop.\n\n### Pointer Arithmetics\n\nFor a row-major 2D tensor :code:`X`, the memory location of :code:`X[i, j]` is given by :code:`&X[i, j] = i + X.stride(0) + j`.\nTherefore, blocks of pointers for :code:`A[m : m+MB, k:k+KB]` and :code:`B[k : k+KB, n : n+NB]` can be defined in pseudo-code as:\n\n .. code-block:: python\n\n   &A[m : m+MB, k:k+KB] =  A + (m : m+MB)[:, newaxis]*A.stride(0) + (k : k+KB)[newaxis, :];\n   &B[k : k+KB, n:n+NB] =  B + (k : k+KB)[:, newaxis]*B.stride(0) + (n : n+NB)[newaxis, :];\n\nWhich means that, at initialization (i.e., :code:`k = 0`), pointers for blocks of A and B can be initialized in Triton as:\n\n .. code-block:: C\n   :force:\n\n   int rm[MB] = program_id_m * MB + 0 ... MB;\n   int rn[NB] = program_id_n * NB + 0 ... NB;\n   int rk[KB] = 0 ... KB;\n   TYPE *pa[MB, KB] = A + (rm[:, newaxis] * stride_a_0 + rk [newaxis, :] * 1);\n   TYPE *pb[KB, NB] = B + (rk[:, newaxis] * stride_b_0 + rn [newaxis, :] * 1);\n\nThese pointers can then be updated in the inner loop as:\n\n .. code-block:: C\n\n   pa += KB * 1;\n   pb += KB * ldb;\n\n\n### L2 Cache Optimizations\n\nAs mentioned above, each program instance computes an :code:`[MB, NB]` block of :code:`C`.\nHowever, the order in which these blocks are computer matters, since it affects the L2 cache hit rate of our program.\nThis means that a naive row-major ordering:\n\n .. code-block:: C\n\n   int program_id = get_program_id(0);\n   int grid_m = (M + MB - 1) / MB;\n   int grid_n = (N + NB - 1) / NB;\n   int program_id_m = program_id / grid_n;\n   int program_id_n = program_id % grid_n;\n\nis unlikely to result in optimal performance.\n\nOne possible solution is to launch blocks in an order that promotes data reuse.\nThis can be done by 'super-grouping' blocks in groups of :code:`GROUP_SIZE` before switching to the next column:\n\n .. code-block:: C\n\n   int program_id = get_program_id(0);\n   int width = GROUP_SIZE * grid_n;\n   int group_id = pid / width;\n   // we need to handle the case where M % (GROUP_SIZE*BM) != 0\n   int group_size = min(grid_m - group_id * GROUP_SIZE, GROUP_SIZE);\n   int pid_m = group_id * GROUP_SIZE + (pid % group_size);\n   int pid_n = (pid % width) / (group_size);\n\nIn practice, this can improve the performance of our matrix multiplication kernel by >10\\% on some hardware architecture (e.g., 220 to 245 TFLOPS on A100).\n\n### Final Result\n\nWe are now ready to put all these pieces together and write our Triton kernel for matrix multiplication.\nNote that we rematerialize :code:`rm` and :code:`rn:` after the inner loop to decrease register pressure.\nThis is an optimization that provides an additional 5% performance improvement and cannot be currently done by the Triton compiler.\n\n .. code-block:: C\n   :force:\n\n   #define MAX_GROUP_SIZE 8\n\n   __global__ void dot(TYPE* A, TYPE* B, TYPE* C,\n                      int M, int N, int K,\n                      int stride_a_0, int stride_b_0, int stride_c_0) {\n     // prologue\n     int pid = get_program_id(0);\n     int grid_m = (M + MB - 1) / MB;\n     int grid_n = (N + NB - 1) / NB;\n     // re-order program ID for better L2 performance\n     int width = MAX_GROUP_SIZE * grid_n;\n     int group_id = pid / width;\n     int group_size = min(grid_m - group_id * MAX_GROUP_SIZE, MAX_GROUP_SIZE);\n     int pid_m = group_id * MAX_GROUP_SIZE + (pid % group_size);\n     int pid_n = (pid % width) / (group_size);\n     // pointers to operands\n     // note the parentheses here; they force the offset\n     // computation to happen in typeof(stride_a_0) = int32 rather than\n     // typeof(A) = int64\n     int rm[MB] = pid_m * MB + 0 ... MB;\n     int rn[NB] = pid_n * NB + 0 ... NB;\n     int rk[KB] = 0 ... KB;\n     TYPE *pa[MB, KB] = A + (rk [newaxis, :] * 1 + rm[:, newaxis] * stride_a_0);\n     TYPE *pb[KB, NB] = B + (rk[:, newaxis] * stride_b_0 + rn [newaxis, :] * 1);\n     // reduction loop\n     float acc[MB, NB] = 0;\n     for (int k = K; k > 0; k -= KB) {\n       acc += (*pa) @ (*pb);\n       pa += KB * 1;\n       pb += KB * stride_b_0;\n     }\n     // pointers to output\n     // here we rematerialize `rm` and `rn` so that they are not live through\n     // the above reduction loop. In the future, the compiler should be able to\n     // do this automatically.\n     rm = pid_m * MB + 0 ... MB;\n     rn = pid_n * NB + 0 ... NB;\n     TYPE *pc[MB, NB] = C + (rm[:, newaxis] * stride_c_0 + rn[newaxis, :]);\n     // we write back using *?() operator. `acc` gets casted to `float32` implicitly.\n     *? (rm[:, newaxis] < M && rn [newaxis, :] < N) pc = acc;\n   }\n\nWhere :code:`TYPE` is the data-type of the input matrices and :code:`MB`, :code:`NB`, :code:`KB` are the block sizes defined in the above pseudo-code.\nGood values for these block sizes are hard to find, hence we will introduce the auto-tuner in the next section of this tutorial.\nIf :code:`TYPE` is :code:`half`, then tensor cores will be used automatically provided that :code:`MB`, :code:`NB` and :code:`KB` are multiples of 16.\n\n\n"
      ]
    },
    {
      "cell_type": "markdown",
      "metadata": {},
      "source": [
        "## Torch Bindings\n\n### Auto-Tuning\n\nIn order to use Triton's built-in auto-tuner in the above kernel, we need to define a list of :code:`triton.config` objects. that can be constructed as follows:\n\n"
      ]
    },
    {
      "cell_type": "code",
      "execution_count": null,
      "metadata": {
        "collapsed": false
      },
      "outputs": [],
      "source": [
        "import torch\nimport triton\n\nautotune_configs = [\n    triton.config(defines={\"MB\": \"128\", \"NB\": \"128\", \"KB\": \"32\"}, num_warps=4),\n    triton.config(defines={'MB': '64', 'NB': '128', 'KB': '32'}, num_warps=4),\n    triton.config(defines={'MB': '128', 'NB': '64', 'KB': '32'}, num_warps=4),\n    triton.config(defines={'MB': '64', 'NB': '64', 'KB': '64'}, num_warps=4),\n    triton.config(defines={'MB': '32', 'NB': '128', 'KB': '64'}, num_warps=4),\n    triton.config(defines={'MB': '128', 'NB': '32', 'KB': '64'}, num_warps=4),\n    triton.config(defines={'MB': '64', 'NB': '32', 'KB': '64'}, num_warps=2),\n    triton.config(defines={'MB': '32', 'NB': '64', 'KB': '64'}, num_warps=2)\n]"
      ]
    },
    {
      "cell_type": "markdown",
      "metadata": {},
      "source": [
        "we also need to define a list of :code:`string` (i.e., \"autotuning key\") that specifies the set of argument names whose change in value will trigger the auto-tuner to kick in.\nHere, we want to re-tune our kernel only when the shape of input matrices changes.\n\n"
      ]
    },
    {
      "cell_type": "code",
      "execution_count": null,
      "metadata": {
        "collapsed": false
      },
      "outputs": [],
      "source": [
        "autotune_key = [\"M\", \"N\", \"K\"]"
      ]
    },
    {
      "cell_type": "markdown",
      "metadata": {},
      "source": [
        "We can now create an auto-tuned kernel by passing the `autotune_configs` and `autotune_key` lists to the constructor of the :code:`triton.kernel` class.\n\n"
      ]
    },
    {
      "cell_type": "code",
      "execution_count": null,
      "metadata": {
        "collapsed": false
      },
      "outputs": [],
      "source": [
        "src = \"\"\"\n#define MAX_GROUP_SIZE 8\n\n__global__ void dot(TYPE* A, TYPE* B, TYPE* C, \n                   int M, int N, int K, \n                   int lda, int ldb, int ldc) {\n  int pid = get_program_id(0);\n  int grid_m = (M + MB - 1) / MB;\n  int grid_n = (N + NB - 1) / NB;\n  int width = MAX_GROUP_SIZE * grid_n;\n  int group_id = pid / width;\n  int group_size = min(grid_m - group_id * MAX_GROUP_SIZE, MAX_GROUP_SIZE);\n  int pid_m = group_id * MAX_GROUP_SIZE + (pid % group_size);\n  int pid_n = (pid % width) / (group_size);\n  int rm[MB] = pid_m * MB + 0 ... MB;\n  int rn[NB] = pid_n * NB + 0 ... NB;\n  int rk[KB] = 0 ... KB;\n  TYPE *pa[MB, KB] = A + (rk [newaxis, :] * 1 + rm[:, newaxis] * lda);\n  TYPE *pb[KB, NB] = B + (rk[:, newaxis] * ldb + rn [newaxis, :] * 1);\n  float acc[MB, NB] = 0;\n  for (int k = K; k > 0; k -= KB) {\n    acc += (*pa) @ (*pb);\n    pa += KB * 1;\n    pb += KB * ldb;\n  }\n  rm = pid_m * MB + 0 ... MB;\n  rn = pid_n * NB + 0 ... NB;\n  TYPE *pc[MB, NB] = C + (rm[:, newaxis] * ldc + rn[newaxis, :]);\n  *? (rm[:, newaxis] < M && rn [newaxis, :] < N) pc = acc;\n}\n\"\"\"\n\n\ndef make_kernel(device, dtype):\n    key = (device, dtype)\n    cache = make_kernel.cache\n    if key not in cache:\n        defines = {'TYPE': dtype}\n        cache[key] = triton.kernel(\n            src,\n            device=device,\n            defines=defines,\n            autotune_configs=autotune_configs,\n            autotune_key=autotune_key,\n        )\n    return cache[key]\n\n\nmake_kernel.cache = dict()"
      ]
    },
    {
      "cell_type": "markdown",
      "metadata": {},
      "source": [
        "### Autograd Function\n\nNow we are ready to expose our auto-tuned kernel as a `torch.autograd.Function`.\nTo do so, we just need to define a `forward` function that takes a two tensors as input and returns a tensor as output.\n\n"
      ]
    },
    {
      "cell_type": "code",
      "execution_count": null,
      "metadata": {
        "collapsed": false
      },
      "outputs": [],
      "source": [
        "class _dot(torch.autograd.Function):\n    @staticmethod\n    def forward(ctx, a, b):\n        M, Ka = a.shape\n        Kb, N = b.shape\n        assert Ka == Kb, \"incompatible dimensions\"\n        assert a.is_contiguous() and b.is_contiguous(), \"inputs must be contiguous\"\n        c = torch.empty((M, N), device=a.device, dtype=a.dtype)\n        kernel = make_kernel(a.device, a.dtype)\n        grid = lambda opt: (triton.cdiv(M, opt.MB) * triton.cdiv(N, opt.NB), )\n        kernel(a.data_ptr(), b.data_ptr(), c.data_ptr(), \\\n               M, N, Ka, \\\n               a.stride(0), b.stride(0), c.stride(0), \\\n               grid=grid)\n        return c\n\n\ndot = _dot.apply"
      ]
    },
    {
      "cell_type": "markdown",
      "metadata": {},
      "source": [
        "## Unit Test\n\nWe can test our custom matrix multiplication operation against cuBLAS (i.e., :code:`torch.matmul`).\nNote that we need to modify the :code`atol` and :code:`rtol` parameters of `torch.allclose` to account for the fact that we are comparing FP16 tensors.\n\n"
      ]
    },
    {
      "cell_type": "code",
      "execution_count": null,
      "metadata": {
        "collapsed": false
      },
      "outputs": [],
      "source": [
        "a = torch.rand((512, 768), device='cuda', dtype=torch.float16)\nb = torch.rand((768, 896), device='cuda', dtype=torch.float16)\nc_0 = dot(a, b)\nc_1 = torch.matmul(a, b)\nprint(c_0)\nprint(c_1)\nprint(torch.allclose(c_0, c_1, rtol=1e-3, atol=1e-3))"
      ]
    },
    {
      "cell_type": "markdown",
      "metadata": {},
      "source": [
        "## Benchmark\n\n### Installing The CUTLASS Bindings\n\nThe cuBLAS library (used by :code:`torch.matmul`) uses handwritten assembly-level optimizations that cannot be replicated using publicly available tools.\nFor this reason, we will instead compare the performance of our kernel against `CUTLASS <https://github.com/NVIDIA/cutlass/>`_ , a highly optimized CUDA library for matrix multiplication written by NVIDIA themselves._\nTo install CUTLASS, you need a recent version of cmake:\n\n .. code-block:: bash\n\n   cd /path/to/cutlass/\n   git clone https://github.com/NVIDIA/cutlass.git\n   cd cutlass\n   mkdir build\n   cd build\n   wget https://github.com/Kitware/CMake/releases/download/v3.19.4/cmake-3.19.4-Linux-x86_64.tar.gz\n   tar xzvf *.tar.gz\n\nYou can then install CUTLASS as follows for V100\n\n .. code-block:: bash\n\n   ./cmake-3.19.4-Linux-x86_64/bin/cmake ../ -DCUTLASS_NVCC_ARCHS_ENABLED=70 -DCUTLASS_LIBRARY_KERNELS=cutlass_tensorop_f16_s884gemm_f16_*_align8\n   make -j8 install\n\nOr as follows for A100:\n\n .. code-block:: bash\n\n   ./cmake-3.19.4-Linux-x86_64/bin/cmake ../ -DCUTLASS_NVCC_ARCHS_ENABLED=80 -DCUTLASS_LIBRARY_KERNELS=cutlass_tensorop_f16_s16816gemm_*align8\n   make -j8 install\n\nWhere you can change CUTLASS_LIBRARY_KERNELS as you desire. Here, we are only interested in FP16 tensor core performance.\nTriton comes with some basic Python bindings for benchmarking CUTLASS. These will be compiled when the environment variables :code:`CUTLASS_INCLUDE_DIR` and :code:`CUTLASS_LIBRARY_DIR` are set during the installation process.\nTo re-install Triton with the updated CUTLASS bindings, run the following command:\n\n.. code-block:: bash\n\n   export CUTLASS_INCLUDE_DIR=/tmp/cutlass/build/install/include/\n   export CUTLASS_LIBRARY_DIR=/tmp/cutlass/build/install/lib/\n   pip uninstall -y triton\n   pip install -e \"git+https://github.com/ptillet/triton.git#egg=triton&subdirectory=python\"\n\nWhich we can test as follows:\n\n"
      ]
    },
    {
      "cell_type": "code",
      "execution_count": null,
      "metadata": {
        "collapsed": false
      },
      "outputs": [],
      "source": [
        "import triton\nc_2 = triton.testing.cutlass_matmul(a, b)\nprint(c_2)\nprint(torch.allclose(c_0, c_2, rtol=1e-3, atol=1e-3))"
      ]
    },
    {
      "cell_type": "markdown",
      "metadata": {},
      "source": [
        "Note that this wrapper for CUTLASS was written for benchmarking purposes and is probably not production-ready.\n\n### Square Matrix Performance\nWe can now compare the performance of our kernel against CUTLASS. Here we focus on square matrices, but feel free to arrange the script as you wish to compare any other matrix shape.#\n\n"
      ]
    },
    {
      "cell_type": "code",
      "execution_count": null,
      "metadata": {
        "collapsed": false
      },
      "outputs": [],
      "source": [
        "@triton.testing.perf_report(\n    triton.testing.Benchmark(\n        x_names=['M', 'N', 'K'],  # argument names to use as an x-axis for the plot\n        x_vals=[256 * i for i in range(2, 33)],  # different possible values for `x_name`\n        y_name='provider',  # argument name whose value corresponds to a different line in the plot\n        y_vals=['cublas', 'triton', 'cutlass'],  # possible keys for `y_name`\n        y_lines=[\"cuBLAS\", \"Triton\", 'CUTLASS'],  # label name for the lines\n        ylabel=\"TFLOPS\",  # label name for the y-axis\n        plot_name=\"matmul-performance\",  # name for the plot. Used also as a file name for saving the plot.\n        args={}\n    )\n)\ndef benchmark(M, N, K, provider):\n    a = torch.randn((M, K), device='cuda', dtype=torch.float16)\n    b = torch.randn((K, N), device='cuda', dtype=torch.float16)\n    if provider == 'cublas':\n        ms, min_ms, max_ms = triton.testing.do_bench(lambda: torch.matmul(a, b))\n    if provider == 'triton':\n        ms, min_ms, max_ms = triton.testing.do_bench(lambda: dot(a, b))\n    if provider == 'cutlass':\n        ms, min_ms, max_ms = triton.testing.do_bench(lambda: triton.testing.cutlass_matmul(a, b))\n    perf = lambda ms: 2 * M * N * K * 1e-12 / (ms * 1e-3)\n    return perf(ms), perf(max_ms), perf(min_ms)\n\n\nbenchmark.run(show_plots=True)"
      ]
    },
    {
      "cell_type": "markdown",
      "metadata": {},
      "source": [
        "As we can see, the performance of our kernel is pretty good. It is in fact faster than CUTLASS, and therefore probably comparable to the absolute best CUDA code an expert could write.\n"
      ]
    }
  ],
  "metadata": {
    "kernelspec": {
      "display_name": "Python 3",
      "language": "python",
      "name": "python3"
    },
    "language_info": {
      "codemirror_mode": {
        "name": "ipython",
        "version": 3
      },
      "file_extension": ".py",
      "mimetype": "text/x-python",
      "name": "python",
      "nbconvert_exporter": "python",
      "pygments_lexer": "ipython3",
      "version": "3.7.3"
    }
  },
  "nbformat": 4,
  "nbformat_minor": 0
}