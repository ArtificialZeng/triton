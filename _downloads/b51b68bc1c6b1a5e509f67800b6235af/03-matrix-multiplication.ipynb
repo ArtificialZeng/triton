{
  "cells": [
    {
      "cell_type": "code",
      "execution_count": null,
      "metadata": {
        "collapsed": false
      },
      "outputs": [],
      "source": [
        "%matplotlib inline"
      ]
    },
    {
      "cell_type": "markdown",
      "metadata": {},
      "source": [
        "\n# Matrix Multiplication\nIn this tutorial, you will write a 25-lines high-performance matrix multiplication kernel that achieves close to peak performance on modern GPUs.\nYou will specifically learn about:\n\n- Block-level matrix multiplications\n- Multi-dimensional pointer arithmetic\n- Program re-ordering for improved L2 cache hit rate \n- Automatic performance tuning\n"
      ]
    },
    {
      "cell_type": "markdown",
      "metadata": {},
      "source": [
        "## Motivations\nMatrix multiplications are a key building block of most modern high-performance computing systems.\nThey are notoriously hard to optimize, hence their implementation is typically done by hardware vendors themselves as part of so-called \"kernel libraries\" (e.g., cuBLAS).\nUnfortunately, these libraries are often proprietary and cannot be easily customized to accomodate the needs of modern deep learning workloads (e.g., mixture of experts, fused activation functions, etc.).\nFor this reason, this tutorial will show you how to implement efficient matrix multiplications yourself with Triton, in a way that is easy to customize and extend.\n\nRoughly speaking, the kernel that we will write will implement the following blocked algorithm:\n\n .. code-block:: python\n\n   # do in parallel\n   for m in range(0, M, BLOCK_M):\n     # do in parallel\n     for n in range(0, N, BLOCK_N):\n       acc = zeros((BLOCK_M, BLOCK_N), dtype=float32)\n       for k in range(0, K, BLOCK_K):\n         a = A[m : m+BLOCK_M, k : k+BLOCK_K]\n         b = B[k : k+BLOCK_K, n : n+BLOCK_N]\n         acc += dot(a, b)\n       C[m : m+BLOCK_M, n : n+BLOCK_N] = acc;\n\nwhere each iteration of the doubly-nested for-loop corresponds to a Triton program instance.\n\n"
      ]
    },
    {
      "cell_type": "markdown",
      "metadata": {},
      "source": [
        "## Compute Kernel\n\nThe above algorithm is actually fairly straightforward to implement in Triton.\nThe main difficulty comes from the 2D pointer arithmetic that must be done to specify the memory locations for the blocks of :code:`A` and :code:`B` that we need to read in the inner loop.\n\n### Pointer Arithmetics\n\nFor a row-major 2D tensor :code:`X`, the memory location of :code:`X[i, j]` is given by :code:`&X[i, j] = X + i*stride_x_0 + j*stride_x_1`.\nTherefore, blocks of pointers for :code:`A[m : m+BLOCK_M, k:k+BLOCK_K]` and :code:`B[k : k+BLOCK_K, n : n+BLOCK_N]` can be defined in pseudo-code as:\n\n .. code-block:: python\n\n   &A[m : m+BLOCK_M, k:k+BLOCK_K] =  A + (m : m+BLOCK_M)[:, None]*A.stride(0) + (k : k+BLOCK_K)[None, :];\n   &B[k : k+BLOCK_K, n:n+BLOCK_N] =  B + (k : k+BLOCK_K)[:, None]*B.stride(0) + (n : n+BLOCK_N)[None, :];\n\nWhich means that, at initialization (i.e., :code:`k = 0`), pointers for blocks of A and B can be initialized in Triton as:\n\n .. code-block:: python\n\n   pid_m = triton.program_id(0)\n   pid_n = triton.program_id(1)\n   rm = pid_m * BLOCK_M + triton.arange(0, BLOCK_M)\n   rn = pid_n * BLOCK_N + triton.arange(0, BLOCK_N)\n   rk = triton.arange(0, BLOCK_K)\n   // pointer for A operand\n   pa = A + (rm[:, None] * stride_a_0 + rk[None, :] * stride_a_1);\n   // pointer for B operand\n   pb = B + (rk[:, None] * stride_b_0 + rn[None, :] * stride_b_1);\n\nThese pointers can then be updated in the inner loop as:\n\n .. code-block:: python\n\n   pa += BLOCK_K * stride_a_1;\n   pb += BLOCK_K * stride_b_0;\n\n\n### L2 Cache Optimizations\n\nAs mentioned above, each program instance computes an :code:`[BLOCK_M, BLOCK_N]` block of :code:`C`.\nHowever, the order in which these blocks are computer matters, since it affects the L2 cache hit rate of our program.\nThis means that a naive row-major ordering:\n\n .. code-block:: Python\n\n   pid = triton.program_id(0);\n   grid_m = (M + BLOCK_M - 1) // BLOCK_M;\n   grid_n = (N + BLOCK_N - 1) // BLOCK_N;\n   pid_m = pid / grid_n;\n   pid_n = pid % grid_n;\n\nis unlikely to result in optimal performance.\n\nOne possible solution is to launch blocks in an order that promotes data reuse.\nThis can be done by 'super-grouping' blocks in groups of :code:`GROUP_M` rows before switching to the next column:\n\n .. code-block:: python\n\n   pid = triton.program_id(0);\n   width = GROUP_M * grid_n;\n   group_id = pid // width;\n   # we need to handle the case where M % (GROUP_M*BLOCK_M) != 0\n   group_size = min(grid_m - group_id * GROUP_M, GROUP_M);\n   pid_m = group_id * GROUP_M + (pid % group_size);\n   pid_n = (pid % width) // (group_size);\n\nIn practice, this can improve the performance of our matrix multiplication kernel by >10\\% on some hardware architecture (e.g., 220 to 245 TFLOPS on A100).\n\n\n"
      ]
    },
    {
      "cell_type": "markdown",
      "metadata": {},
      "source": [
        "## Final Result\n\n\n"
      ]
    },
    {
      "cell_type": "code",
      "execution_count": null,
      "metadata": {
        "collapsed": false
      },
      "outputs": [],
      "source": [
        "import torch\nimport triton\n\n# %\n# :code:`triton.jit`'ed functions can be auto-tuned by using the `triton.autotune` decorator, which consumes:\n#   - A list of :code:`triton.Config` objects that define different configurations of meta-parameters (e.g., BLOCK_M) and compilation options (e.g., num_warps) to try\n#   - A autotuning *key* whose change in values will trigger evaluation of all the provided configs\n\n\n@triton.jit\ndef sigmoid(x):\n    ret_true = 1 / (1 + triton.exp(-x))\n    ret_false = triton.exp(x) / (1 + triton.exp(x))\n    return triton.where(x >= 0, ret_true, ret_false)\n\n\n@triton.jit\ndef swish(x):\n    return x * sigmoid(x)\n\n\n@triton.autotune(\n    configs=[\n        triton.Config({'BLOCK_M': 128, 'BLOCK_N': 128, 'BLOCK_K': 32, 'GROUP_M': 8}, num_warps=4),\n        triton.Config({'BLOCK_M': 64, 'BLOCK_N': 128, 'BLOCK_K': 32, 'GROUP_M': 8}, num_warps=4),\n    ],\n    key=['M', 'N', 'K'],\n)\n# %\n# We can now define our kernel as normal, using all the techniques presented above\n@triton.jit\ndef _matmul(A, B, C, M, N, K, stride_am, stride_ak, stride_bk, stride_bn, stride_cm, stride_cn, **META):\n    # extract meta-parameters\n    BLOCK_M = META['BLOCK_M']\n    BLOCK_N = META['BLOCK_N']\n    BLOCK_K = META['BLOCK_K']\n    GROUP_M = 8\n    # matrix multiplication\n    pid = triton.program_id(0)\n    grid_m = (M + BLOCK_M - 1) // BLOCK_M\n    grid_n = (N + BLOCK_N - 1) // BLOCK_N\n    # re-order program ID for better L2 performance\n    width = GROUP_M * grid_n\n    group_id = pid // width\n    group_size = min(grid_m - group_id * GROUP_M, GROUP_M)\n    pid_m = group_id * GROUP_M + (pid % group_size)\n    pid_n = (pid % width) // (group_size)\n    # do matrix multiplication\n    rm = pid_m * BLOCK_M + triton.arange(0, BLOCK_M)\n    rn = pid_n * BLOCK_N + triton.arange(0, BLOCK_N)\n    rk = triton.arange(0, BLOCK_K)\n    A = A + (rm[:, None] * stride_am + rk[None, :] * stride_ak)\n    B = B + (rk[:, None] * stride_bk + rn[None, :] * stride_bn)\n    acc = triton.zeros((BLOCK_M, BLOCK_N), dtype=triton.float32)\n    for k in range(K, 0, -BLOCK_K):\n        a = triton.load(A)\n        b = triton.load(B)\n        acc += triton.dot(a, b)\n        A += BLOCK_K * stride_ak\n        B += BLOCK_K * stride_bk\n    # triton can accept arbitrary activation function\n    # via metaparameters!\n    if META['ACTIVATION']:\n        acc = META['ACTIVATION'](acc)\n    # rematerialize rm and rn to save registers\n    rm = pid_m * BLOCK_M + triton.arange(0, BLOCK_M)\n    rn = pid_n * BLOCK_N + triton.arange(0, BLOCK_N)\n    C = C + (rm[:, None] * stride_cm + rn[None, :] * stride_cn)\n    mask = (rm[:, None] < M) & (rn[None, :] < N)\n    triton.store(C, acc, mask=mask)"
      ]
    },
    {
      "cell_type": "markdown",
      "metadata": {},
      "source": [
        "We can also create a convenience wrapper function that only takes two input tensors\nand (1) checks any shape constraint; (2) allocates the output; (3) launches the kernel\n\n"
      ]
    },
    {
      "cell_type": "code",
      "execution_count": null,
      "metadata": {
        "collapsed": false
      },
      "outputs": [],
      "source": [
        "def matmul(a, b, activation=None):\n    # checks constraints\n    assert a.shape[1] == b.shape[0], \"incompatible dimensions\"\n    assert a.is_contiguous(), \"matrix A must be contiguous\"\n    assert b.is_contiguous(), \"matrix B must be contiguous\"\n    M, K = a.shape\n    _, N = b.shape\n    # allocates output\n    c = torch.empty((M, N), device=a.device, dtype=a.dtype)\n    # launch kernel\n    grid = lambda META: (triton.cdiv(M, META['BLOCK_M']) * triton.cdiv(N, META['BLOCK_N']), )\n    _matmul[grid](\n        a, b, c, M, N, K, \\\n        a.stride(0), a.stride(1), b.stride(0), b.stride(1), c.stride(0), c.stride(1),\\\n        ACTIVATION = activation\n    )\n    # return output\n    return c"
      ]
    },
    {
      "cell_type": "markdown",
      "metadata": {},
      "source": [
        "## Unit Test\n\nWe can test our custom matrix multiplication operation against a native torch implementation (i.e., cuBLAS + custom element-wise swish kernel)\n\n"
      ]
    },
    {
      "cell_type": "code",
      "execution_count": null,
      "metadata": {
        "collapsed": false
      },
      "outputs": [],
      "source": [
        "#torch.manual_seed(0)\na = torch.randn((512, 512), device='cuda', dtype=torch.float16)\nb = torch.randn((512, 512), device='cuda', dtype=torch.float16)\nc_0 = matmul(a, b, activation=swish)\nc_1 = torch.nn.SiLU()(torch.matmul(a, b))\nprint(c_0)\nprint(c_1)\nprint(triton.testing.allclose(c_0, c_1))"
      ]
    },
    {
      "cell_type": "markdown",
      "metadata": {},
      "source": [
        "## Benchmark\n\n### Square Matrix Performance\nWe can now compare the performance of our kernel against CUTLASS. Here we focus on square matrices, but feel free to arrange the script as you wish to compare any other matrix shape.#\n\n"
      ]
    },
    {
      "cell_type": "code",
      "execution_count": null,
      "metadata": {
        "collapsed": false
      },
      "outputs": [],
      "source": [
        "@triton.testing.perf_report(\n    triton.testing.Benchmark(\n        x_names=['M', 'N', 'K'],  # argument names to use as an x-axis for the plot\n        x_vals=[256 * i for i in range(2, 33)],  # different possible values for `x_name`\n        y_name='provider',  # argument name whose value corresponds to a different line in the plot\n        y_vals=['cublas', 'triton'],  # possible keys for `y_name`\n        y_lines=[\"cuBLAS\", \"Triton\"],  # label name for the lines\n        ylabel=\"TFLOPS\",  # label name for the y-axis\n        plot_name=\"matmul-performance\",  # name for the plot. Used also as a file name for saving the plot.\n        args={}\n    )\n)\ndef benchmark(M, N, K, provider):\n    silu = torch.nn.SiLU()\n    a = torch.randn((M, K), device='cuda', dtype=torch.float16)\n    b = torch.randn((K, N), device='cuda', dtype=torch.float16)\n    if provider == 'cublas':\n        ms, min_ms, max_ms = triton.testing.do_bench(lambda: torch.matmul(a, b))\n    if provider == 'triton':\n        ms, min_ms, max_ms = triton.testing.do_bench(lambda: matmul(a, b))\n    perf = lambda ms: 2 * M * N * K * 1e-12 / (ms * 1e-3)\n    return perf(ms), perf(max_ms), perf(min_ms)\n\n\nbenchmark.run(print_data=True)"
      ]
    }
  ],
  "metadata": {
    "kernelspec": {
      "display_name": "Python 3",
      "language": "python",
      "name": "python3"
    },
    "language_info": {
      "codemirror_mode": {
        "name": "ipython",
        "version": 3
      },
      "file_extension": ".py",
      "mimetype": "text/x-python",
      "name": "python",
      "nbconvert_exporter": "python",
      "pygments_lexer": "ipython3",
      "version": "3.7.3"
    }
  },
  "nbformat": 4,
  "nbformat_minor": 0
}