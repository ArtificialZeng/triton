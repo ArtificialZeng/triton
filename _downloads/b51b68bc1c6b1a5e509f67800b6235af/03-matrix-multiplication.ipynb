{
  "cells": [
    {
      "cell_type": "code",
      "execution_count": null,
      "metadata": {
        "collapsed": false
      },
      "outputs": [],
      "source": [
        "%matplotlib inline"
      ]
    },
    {
      "cell_type": "markdown",
      "metadata": {},
      "source": [
        "\n# Matrix Multiplication\nIn this tutorial, you will write a 25-lines high-performance FP16 matrix multiplication\nkernel that achieves performance on par with cuBLAS.\nYou will specifically learn about:\n\n- Block-level matrix multiplications\n- Multi-dimensional pointer arithmetic\n- Program re-ordering for improved L2 cache hit rate\n- Automatic performance tuning\n"
      ]
    },
    {
      "cell_type": "markdown",
      "metadata": {},
      "source": [
        "## Motivations\nMatrix multiplications are a key building block of most modern high-performance computing systems.\nThey are notoriously hard to optimize, hence their implementation is generally done by\nhardware vendors themselves as part of so-called \"kernel libraries\" (e.g., cuBLAS).\nUnfortunately, these libraries are often proprietary and cannot be easily customized\nto accomodate the needs of modern deep learning workloads (e.g., fused activation functions).\nIn this tutorial, you will learn how to implement efficient matrix multiplications by\nyourself with Triton, in a way that is easy to customize and extend.\n\nRoughly speaking, the kernel that we will write will implement the following blocked\nalgorithm to multiply a (MxK) by a (KxN) matrix:\n\n .. code-block:: python\n\n   # do in parallel\n   for m in range(0, M, BLOCK_SIZE_M):\n     # do in parallel\n     for n in range(0, N, BLOCK_SIZE_N):\n       acc = zeros((BLOCK_SIZE_M, BLOCK_SIZE_N), dtype=float32)\n       for k in range(0, K, BLOCK_SIZE_K):\n         a = A[m : m+BLOCK_SIZE_M, k : k+BLOCK_SIZE_K]\n         b = B[k : k+BLOCK_SIZE_K, n : n+BLOCK_SIZE_N]\n         acc += dot(a, b)\n       C[m : m+BLOCK_SIZE_M, n : n+BLOCK_SIZE_N] = acc;\n\nwhere each iteration of the doubly-nested for-loop corresponds to a Triton program instance.\n\n"
      ]
    },
    {
      "cell_type": "markdown",
      "metadata": {},
      "source": [
        "## Compute Kernel\n\nThe above algorithm is, actually, fairly straightforward to implement in Triton.\nThe main difficulty comes from the computation of the memory locations at which blocks\nof :code:`A` and :code:`B` must be read in the inner loop. For that, we need\nmulti-dimensional pointer arithmetics.\n\n### Pointer Arithmetics\n\nFor a row-major 2D tensor :code:`X`, the memory location of :code:`X[i, j]` is given b\ny :code:`&X[i, j] = X + i*stride_x_0 + j*stride_x_1`.\nTherefore, blocks of pointers for :code:`A[m : m+BLOCK_SIZE_M, k:k+BLOCK_SIZE_K]` and\n:code:`B[k : k+BLOCK_SIZE_K, n : n+BLOCK_SIZE_N]` can be defined in pseudo-code as:\n\n .. code-block:: python\n\n   &A[m : m+BLOCK_SIZE_M, k:k+BLOCK_SIZE_K] =  A + (m : m+BLOCK_SIZE_M)[:, None]*A.stride(0) + (k : k+BLOCK_SIZE_K)[None, :]*A.stride(1);\n   &B[k : k+BLOCK_SIZE_K, n:n+BLOCK_SIZE_N] =  B + (k : k+BLOCK_SIZE_K)[:, None]*B.stride(0) + (n : n+BLOCK_SIZE_N)[None, :]*B.stride(1);\n\nWhich means that pointers for blocks of A and B can be initialized (i.e., :code:`k=0`) in Triton as:\n\n .. code-block:: python\n\n   pid_m = triton.program_id(0)\n   pid_n = triton.program_id(1)\n   rm = pid_m * BLOCK_SIZE_M + triton.arange(0, BLOCK_SIZE_M)\n   rn = pid_n * BLOCK_SIZE_N + triton.arange(0, BLOCK_SIZE_N)\n   rk = triton.arange(0, BLOCK_SIZE_K)\n   // pointer for A operand\n   pa = A + (rm[:, None] * stride_a_0 + rk[None, :] * stride_a_1);\n   // pointer for B operand\n   pb = B + (rk[:, None] * stride_b_0 + rn[None, :] * stride_b_1);\n\nAnd then updated in the inner loop as follows:\n\n .. code-block:: python\n\n   pa += BLOCK_SIZE_K * stride_a_1;\n   pb += BLOCK_SIZE_K * stride_b_0;\n\n\n### L2 Cache Optimizations\n\nAs mentioned above, each program instance computes a :code:`[BLOCK_SIZE_M, BLOCK_SIZE_N]`\nblock of :code:`C`.\nIt is important to remember that the order in which these blocks are computed does\nmatter, since it affects the L2 cache hit rate of our program. and unfortunately, a\na simple row-major ordering\n\n .. code-block:: Python\n\n   pid = triton.program_id(0);\n   grid_m = (M + BLOCK_SIZE_M - 1) // BLOCK_SIZE_M;\n   grid_n = (N + BLOCK_SIZE_N - 1) // BLOCK_SIZE_N;\n   pid_m = pid / grid_n;\n   pid_n = pid % grid_n;\n\nis just not going to cut it.\n\nOne possible solution is to launch blocks in an order that promotes data reuse.\nThis can be done by 'super-grouping' blocks in groups of :code:`GROUP_M` rows before\nswitching to the next column:\n\n .. code-block:: python\n\n   pid = triton.program_id(0);\n   width = GROUP_M * grid_n;\n   group_id = pid // width;\n   # we need to handle the case where M % (GROUP_M*BLOCK_SIZE_M) != 0\n   group_size = min(grid_m - group_id * GROUP_M, GROUP_M);\n   pid_m = group_id * GROUP_M + (pid % group_size);\n   pid_n = (pid % width) // (group_size);\n\nFor example, in the following matmul where each matrix is 9 blocks by 9 blocks,\nwe can see that if we compute the output in row-major ordering, we need to load 90\nblocks into SRAM to compute the first 9 output blocks, but if we do it in grouped\nordering, we only need to load 54 blocks.\n  .. image:: grouped_vs_row_major_ordering.png\n\nIn practice, this can improve the performance of our matrix multiplication kernel by\nmore than 10\\% on some hardware architecture (e.g., 220 to 245 TFLOPS on A100).\n\n\n"
      ]
    },
    {
      "cell_type": "markdown",
      "metadata": {},
      "source": [
        "## Final Result\n\n\n"
      ]
    },
    {
      "cell_type": "code",
      "execution_count": null,
      "metadata": {
        "collapsed": false
      },
      "outputs": [],
      "source": [
        "import torch\nimport triton\nimport triton.language as tl\n\n# %\n# :code:`triton.jit`'ed functions can be auto-tuned by using the `triton.autotune`\n# decorator, which consumes:\n#   - A list of :code:`triton.Config` objects that define different configurations of\n#       meta-parameters (e.g., BLOCK_SIZE_M) and compilation options (e.g., num_warps) to try\n#   - An autotuning *key* whose change in values will trigger evaluation of all the\n#       provided configs\n\n@triton.autotune(\n    configs=[\n        triton.Config({'BLOCK_SIZE_M': 128, 'BLOCK_SIZE_N': 256, 'BLOCK_SIZE_K': 32, 'GROUP_SIZE_M': 8}, num_stages=3, num_warps=8),\n        triton.Config({'BLOCK_SIZE_M': 256, 'BLOCK_SIZE_N': 128, 'BLOCK_SIZE_K': 32, 'GROUP_SIZE_M': 8}, num_stages=3, num_warps=8),\n        triton.Config({'BLOCK_SIZE_M': 256, 'BLOCK_SIZE_N': 64,  'BLOCK_SIZE_K': 32, 'GROUP_SIZE_M': 8}, num_stages=4, num_warps=4),\n        triton.Config({'BLOCK_SIZE_M': 64 , 'BLOCK_SIZE_N': 256, 'BLOCK_SIZE_K': 32, 'GROUP_SIZE_M': 8}, num_stages=4, num_warps=4),\n        triton.Config({'BLOCK_SIZE_M': 128, 'BLOCK_SIZE_N': 128, 'BLOCK_SIZE_K': 32, 'GROUP_SIZE_M': 8}, num_stages=4, num_warps=4),\n        triton.Config({'BLOCK_SIZE_M': 128, 'BLOCK_SIZE_N': 64 , 'BLOCK_SIZE_K': 32, 'GROUP_SIZE_M': 8}, num_stages=4, num_warps=4),\n        triton.Config({'BLOCK_SIZE_M': 64 , 'BLOCK_SIZE_N': 128, 'BLOCK_SIZE_K': 32, 'GROUP_SIZE_M': 8}, num_stages=4, num_warps=4),\n        triton.Config({'BLOCK_SIZE_M': 128, 'BLOCK_SIZE_N': 32 , 'BLOCK_SIZE_K': 32, 'GROUP_SIZE_M': 8}, num_stages=4, num_warps=4),\n        triton.Config({'BLOCK_SIZE_M': 64 , 'BLOCK_SIZE_N': 32 , 'BLOCK_SIZE_K': 32, 'GROUP_SIZE_M': 8}, num_stages=5, num_warps=2),\n        triton.Config({'BLOCK_SIZE_M': 32 , 'BLOCK_SIZE_N': 64 , 'BLOCK_SIZE_K': 32, 'GROUP_SIZE_M': 8}, num_stages=5, num_warps=2),\n    ],\n    key=['M', 'N', 'K'],\n)\n# %\n# We can now define our kernel as normal, using all the techniques presented above\n@triton.jit\ndef matmul_kernel(\n    # Pointers to matrices\n    a_ptr,\n    b_ptr,\n    c_ptr,\n    # Matrix dimensions\n    M,\n    N,\n    K,\n    # The stride variables represent how much to increase the ptr by when moving by 1\n    # element in a particular dimension. E.g. stride_am is how much to increase a_ptr\n    # by to get the element one row down (A has M rows)\n    stride_am,\n    stride_ak,\n    stride_bk,\n    stride_bn,\n    stride_cm,\n    stride_cn,\n    **meta,\n):\n    \"\"\"Kernel for computing the matmul AB = C\n\n    A has shape (M, K), B has shape (K, N) and C has shape (M, N)\n    \"\"\"\n    # extract meta-parameters\n    BLOCK_SIZE_M = meta['BLOCK_SIZE_M']\n    BLOCK_SIZE_N = meta['BLOCK_SIZE_N']\n    BLOCK_SIZE_K = meta['BLOCK_SIZE_K']\n    GROUP_SIZE_M = 8\n    pid = tl.program_id(axis=0)\n\n    # the number of blocks is the ceil(M / BLOCK_SIZE_M) since we need an extra block\n    # Note that this will lead to some quantization in performance where time-taken jumps\n    # when you need to add a new block\n    n_blocks_m = (M + BLOCK_SIZE_M - 1) // BLOCK_SIZE_M\n    n_blocks_n = (N + BLOCK_SIZE_N - 1) // BLOCK_SIZE_N\n\n    # Map PIDs to the block they should compute. This is done in a grouped ordering\n    # to promote L2 cache reuse.\n    n_output_blocks_in_group = GROUP_SIZE_M * n_blocks_n\n    group_id = pid // n_output_blocks_in_group\n    first_m_block_in_group = group_id * GROUP_SIZE_M\n\n    # If the number of blocks is not divisible by the group size, the last group is smaller\n    group_size_m = min(n_blocks_m - first_m_block_in_group, GROUP_SIZE_M)\n\n    # Within a group, we compute in col-major ordering, block_m and block_n are the\n    # output row and col that this program is computing in terms of blocks\n    block_m = first_m_block_in_group + (pid % group_size_m)\n    block_n = (pid % n_output_blocks_in_group) // group_size_m\n\n    # Convert from block indices back to element indices\n    m_start = block_m * BLOCK_SIZE_M\n    n_start = block_n * BLOCK_SIZE_N\n\n    # Expand out to all the offsets for each of the elements in this block.\n    m_offsets_a = (m_start + tl.arange(0, BLOCK_SIZE_M))[:, None]\n    n_offsets_b = (n_start + tl.arange(0, BLOCK_SIZE_N))[None, :]\n    k_offsets = tl.arange(0, BLOCK_SIZE_K)\n\n    # Get the pointers for the first block of each. We will advance this pointer\n    # as we move in the K direction and accumulate.\n    # a_ptrs should contain BLOCK_SIZE_M * BLOCK_SIZE_K pointers\n    a_ptrs = a_ptr + (stride_am * m_offsets_a + stride_ak * k_offsets[None, :])\n    # b_ptrs should contain BLOCK_SIZE_K * BLOCK_SIZE_N pointers\n    b_ptrs = b_ptr + (stride_bk * k_offsets[:, None] + stride_bn * n_offsets_b)\n    # We accumulate internally in fp32, but the output is written out in the dtype\n    # of the tensor when it is stored\n    accumulator = tl.zeros((BLOCK_SIZE_M, BLOCK_SIZE_N), dtype=tl.float32)\n    for k in range(0, K, BLOCK_SIZE_K):\n        # Note that for simplicity, we don't apply a mask here. This means that if K is\n        # not a multiple of BLOCK_SIZE_K, this will access out-of-bounds memory and\n        # accumulate it incorrectly.\n        a = tl.load(a_ptrs)\n        b = tl.load(b_ptrs)\n        # We accumulate along the K dimension\n        accumulator += tl.dot(a, b)\n\n        # Advance the ptrs to the next K block\n        a_ptrs += BLOCK_SIZE_K * stride_ak\n        b_ptrs += BLOCK_SIZE_K * stride_bk\n    # triton can accept arbitrary activation function via metaparameters!\n    if meta['ACTIVATION']:\n        accumulator = meta['ACTIVATION'](accumulator)\n\n    m_offsets_c = (m_start + tl.arange(0, BLOCK_SIZE_M))[:, None]\n    n_offsets_c = (n_start + tl.arange(0, BLOCK_SIZE_N))[None, :]\n    c_ptrs = c_ptr + stride_cm * m_offsets_c + stride_cn * n_offsets_c\n    mask = (m_offsets_c < M) & (n_offsets_c < N)\n    tl.store(c_ptrs, accumulator, mask=mask)\n\n\n# we can fuse `leaky_relu` by providing it as an `ACTIVATION` meta-parameter in `_matmul`\n@triton.jit\ndef leaky_relu(x):\n    return tl.where(x >= 0, x, 0.01 * x)"
      ]
    },
    {
      "cell_type": "markdown",
      "metadata": {},
      "source": [
        "We can now create a convenience wrapper function that only takes two input tensors\nand (1) checks any shape constraint; (2) allocates the output; (3) launches the above kernel\n\n"
      ]
    },
    {
      "cell_type": "code",
      "execution_count": null,
      "metadata": {
        "collapsed": false
      },
      "outputs": [],
      "source": [
        "def matmul(a, b, activation=None):\n    # checks constraints\n    assert a.shape[1] == b.shape[0], \"incompatible dimensions\"\n    assert a.is_contiguous(), \"matrix A must be contiguous\"\n    assert b.is_contiguous(), \"matrix B must be contiguous\"\n    M, K = a.shape\n    K, N = b.shape\n    assert (\n        K % 32 == 0\n    ), \"We don't check memory-out-of-bounds with K so K must be divisible by BLOCK_SIZE_K\"\n    # allocates output\n    c = torch.empty((M, N), device=a.device, dtype=a.dtype)\n    # 1D launch kernel where each block gets its own program.\n    grid = lambda META: (\n        triton.cdiv(M, META['BLOCK_SIZE_M']) * triton.cdiv(N, META['BLOCK_SIZE_N']),\n    )\n    matmul_kernel[grid](\n        a,\n        b,\n        c,\n        M,\n        N,\n        K,\n        a.stride(0),\n        a.stride(1),\n        b.stride(0),\n        b.stride(1),\n        c.stride(0),\n        c.stride(1),\n        ACTIVATION=activation,\n    )\n    return c"
      ]
    },
    {
      "cell_type": "markdown",
      "metadata": {},
      "source": [
        "## Unit Test\n\nWe can test our custom matrix multiplication operation against a native torch implementation (i.e., cuBLAS)\n\n"
      ]
    },
    {
      "cell_type": "code",
      "execution_count": null,
      "metadata": {
        "collapsed": false
      },
      "outputs": [],
      "source": [
        "torch.manual_seed(0)\na = torch.randn((512, 512), device='cuda', dtype=torch.float16)\nb = torch.randn((512, 512), device='cuda', dtype=torch.float16)\ntriton_output = matmul(a, b, activation=None)\ntorch_output = torch.matmul(a, b)\nprint(f\"triton_output={triton_output}\")\nprint(f\"torch_output={torch_output}\")\nif triton.testing.allclose(triton_output, torch_output):\n    print(\"\u2705 Triton and Torch match\")\nelse:\n    print(\"\u274c Triton and Torch differ\")"
      ]
    },
    {
      "cell_type": "markdown",
      "metadata": {},
      "source": [
        "## Benchmark\n\n### Square Matrix Performance\nWe can now compare the performance of our kernel against that of cuBLAS. Here we focus on square matrices, but feel free to arrange this script as you wish to benchmark any other matrix shape.\n\n"
      ]
    },
    {
      "cell_type": "code",
      "execution_count": null,
      "metadata": {
        "collapsed": false
      },
      "outputs": [],
      "source": [
        "@triton.testing.perf_report(\n    triton.testing.Benchmark(\n        x_names=['M', 'N', 'K'],  # argument names to use as an x-axis for the plot\n        x_vals=[\n            128 * i for i in range(1, 33)\n        ],  # different possible values for `x_name`\n        line_arg='provider',  # argument name whose value corresponds to a different line in the plot\n        # possible values for `line_arg``\n        line_vals=['cublas', 'cublas + relu', 'triton', 'triton + relu'],\n        # label name for the lines\n        line_names=[\"cuBLAS\", \"cuBLAS (+ torch.nn.LeakyReLU)\", \"Triton\", \"Triton (+ LeakyReLU)\"],\n        # line styles\n        styles=[('green', '-'), ('green', '--'), ('blue', '-'), ('blue', '--')],\n        ylabel=\"TFLOPS\",  # label name for the y-axis\n        plot_name=\"matmul-performance\",  # name for the plot. Used also as a file name for saving the plot.\n        args={},\n    )\n)\ndef benchmark(M, N, K, provider):\n    a = torch.randn((M, K), device='cuda', dtype=torch.float16)\n    b = torch.randn((K, N), device='cuda', dtype=torch.float16)\n    if provider == 'cublas':\n        ms, min_ms, max_ms = triton.testing.do_bench(lambda: torch.matmul(a, b))\n    if provider == 'triton':\n        ms, min_ms, max_ms = triton.testing.do_bench(lambda: matmul(a, b))\n    if provider == 'cublas + relu':\n        torch_relu = torch.nn.ReLU(inplace=True)\n        ms, min_ms, max_ms = triton.testing.do_bench(\n            lambda: torch_relu(torch.matmul(a, b))\n        )\n    if provider == 'triton + relu':\n        ms, min_ms, max_ms = triton.testing.do_bench(\n            lambda: matmul(a, b, activation=leaky_relu)\n        )\n    perf = lambda ms: 2 * M * N * K * 1e-12 / (ms * 1e-3)\n    return perf(ms), perf(max_ms), perf(min_ms)\n\n\nbenchmark.run(show_plots=True, print_data=True)"
      ]
    }
  ],
  "metadata": {
    "kernelspec": {
      "display_name": "Python 3",
      "language": "python",
      "name": "python3"
    },
    "language_info": {
      "codemirror_mode": {
        "name": "ipython",
        "version": 3
      },
      "file_extension": ".py",
      "mimetype": "text/x-python",
      "name": "python",
      "nbconvert_exporter": "python",
      "pygments_lexer": "ipython3",
      "version": "3.8.10"
    }
  },
  "nbformat": 4,
  "nbformat_minor": 0
}