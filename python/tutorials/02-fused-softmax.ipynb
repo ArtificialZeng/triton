{
 "cells": [
  {
   "cell_type": "markdown",
   "id": "induced-zoning",
   "metadata": {},
   "source": [
    "# Getting Started"
   ]
  },
  {
   "cell_type": "markdown",
   "id": "median-malaysia",
   "metadata": {},
   "source": [
    "Custom GPU kernels for elementwise additions are educationally valuable but won't get you very far in practice. Let us consider instead the case of a simple (numerically stabilized) softmax operation:"
   ]
  },
  {
   "cell_type": "code",
   "execution_count": 34,
   "id": "precise-professor",
   "metadata": {},
   "outputs": [],
   "source": [
    "import torch\n",
    "\n",
    "# Compute the row-wise softmax of x \\in R^{M \\times N}\n",
    "def naive_softmax(x):\n",
    "    # read  MN elements ; write M  elements\n",
    "    x_max = torch.max(x, axis=1)[0]\n",
    "    # read 2MN elements ; write MN elements\n",
    "    z = x - x_max[:, None]\n",
    "    # read  MN elements ; write MN elements\n",
    "    numerator = torch.exp(x)\n",
    "    # read  MN elements ; write M  elements\n",
    "    denominator = torch.sum(numerator, axis=1)\n",
    "    # read 2MN elements ; write MN elements\n",
    "    ret = numerator / denominator[:, None]\n",
    "    # in total: read 7MN elements ; wrote 3MN + 2M elements\n",
    "    return ret"
   ]
  },
  {
   "cell_type": "markdown",
   "id": "gorgeous-monday",
   "metadata": {},
   "source": [
    "When implemented naively in pytorch, computing $y$ requires reading $7MN$ elements from DRAM and writing back $3MN + 2M$ elements.\n",
    "\n",
    "Instead, we want to write a custom \"fused\" pytorch operators that only reads X once and does all the necessary computations on-chip. This would require reading and writing back only $MN$ bytes, so we could expect a theoretical speed-up of 5x. In practice, though, we expect less because our kernel will spend some time computing exponentials and moving data around in shared memory."
   ]
  },
  {
   "cell_type": "markdown",
   "id": "identical-conditions",
   "metadata": {},
   "source": [
    "# Writing the Compute Kernel"
   ]
  },
  {
   "cell_type": "markdown",
   "id": "prepared-apparatus",
   "metadata": {},
   "source": [
    "Our softmax kernel works as follows: each program loads a row of X and writes back a normalized row of Y. Note that one important limitation of Triton is that each block must have a power-of-two number of elements, which means that we need to guard the memory operations properly if we want to handle any possible input shapes:\n",
    "\n",
    "```c\n",
    "__global__ void softmax(float* Y, float* X, int stride_xm, int stride_ym, int M, int N){\n",
    "    // row index\n",
    "    int    m             = get_program_id(0);\n",
    "    // column indices\n",
    "    int    n    [BLOCK] = 0 ... BLOCK;\n",
    "    // the memory address of all the elements\n",
    "    // that we want to load can be computed as follows\n",
    "    float* px   [BLOCK] = X + m*stride_xm + n;\n",
    "    // because BLOCK has to be a power of two\n",
    "    // (per Triton-C specs), it is important\n",
    "    // to guard each memory operation with predicates\n",
    "    // or we will read out of bounds\n",
    "    bool   check[BLOCK] = n < N;\n",
    "    float  x    [BLOCK] = check ? *px : -F32_INFINITY;\n",
    "    // syntax for reduction in Triton is:\n",
    "    // x[..., OPERATOR, ...]\n",
    "    //            ^\n",
    "    //           index\n",
    "    // The operators currently supported are {min, max, +}\n",
    "    float  z    [BLOCK] = x - x[max];\n",
    "    // The exponential in Triton is fast but approximate \n",
    "    // (i.e., like __expf in CUDA)\n",
    "    float  num  [BLOCK] = exp(z);\n",
    "    float  denom         = num[+];\n",
    "    // The result of the reduction is now stored in y\n",
    "    float  y    [BLOCK] = num / denom;\n",
    "    // We write it back\n",
    "    float* py   [BLOCK] = Y + m*stride_ym + n;\n",
    "    *?(check)py = y; \n",
    "}\n",
    "```"
   ]
  },
  {
   "cell_type": "markdown",
   "id": "forbidden-wednesday",
   "metadata": {},
   "source": [
    "# Writing the Torch bindings"
   ]
  },
  {
   "cell_type": "code",
   "execution_count": 29,
   "id": "former-pottery",
   "metadata": {},
   "outputs": [],
   "source": [
    "import torch\n",
    "import triton\n",
    "\n",
    "# source-code for Triton compute kernel\n",
    "_src = \"\"\"\n",
    "__global__ void softmax(float* Y, float* X, int stride_ym, int stride_xm, int M, int N){\n",
    "    int    m             = get_program_id(0);\n",
    "    int    n    [BLOCK] = 0 ... BLOCK;\n",
    "    float* px   [BLOCK] = X + m*stride_xm + n;\n",
    "    bool   check[BLOCK] = n < N;\n",
    "    float  x    [BLOCK] = check ? *px : -F32_INFINITY;\n",
    "    float  z    [BLOCK] = x - x[max];\n",
    "    float  num  [BLOCK] = exp(z);\n",
    "    float  denom        = num[+];\n",
    "    float  y    [BLOCK] = num / denom;\n",
    "    float* py   [BLOCK] = Y + m*stride_ym + n;\n",
    "    *?(check)py = y; \n",
    "}\n",
    "\"\"\"\n",
    "\n",
    "# We need to make sure that BLOCK is the smallest power of two\n",
    "# greater than the number of rows N of the input matrix.\n",
    "# Different values of BLOCK will result in different kernels\n",
    "def next_power_of_2(n):\n",
    "    n -= 1\n",
    "    n |= n >> 1\n",
    "    n |= n >> 2\n",
    "    n |= n >> 4\n",
    "    n |= n >> 8\n",
    "    n |= n >> 16\n",
    "    n += 1\n",
    "    return n\n",
    "\n",
    "_kernels = dict()\n",
    "def make_kernel(N, device):\n",
    "    BLOCK = next_power_of_2(N)\n",
    "    key = (BLOCK, device)\n",
    "    if key not in _kernels:\n",
    "        defines = {'BLOCK': BLOCK}\n",
    "        _kernels[key] = triton.kernel(_src, device=device, defines=defines)\n",
    "    return _kernels[key]\n",
    "\n",
    "class _softmax(torch.autograd.Function):\n",
    "    \n",
    "    @staticmethod\n",
    "    def forward(ctx, x):\n",
    "        # constraints of the op\n",
    "        assert x.dtype == torch.float32\n",
    "        y = torch.empty_like(x)\n",
    "        # *create launch grid*:\n",
    "        # here we just launch a grid of M programs\n",
    "        M, N = y.shape\n",
    "        grid = lambda opt: (M, )\n",
    "        # *launch kernel*:\n",
    "        kernel = make_kernel(N, y.device)\n",
    "        kernel(y.data_ptr(), x.data_ptr(), y.stride(0), x.stride(0), M, N, grid = grid)\n",
    "        return y\n",
    "    \n",
    "softmax = _softmax.apply"
   ]
  },
  {
   "cell_type": "markdown",
   "id": "exclusive-salvation",
   "metadata": {},
   "source": [
    "# Writing a Unit Test"
   ]
  },
  {
   "cell_type": "code",
   "execution_count": 39,
   "id": "pretty-prospect",
   "metadata": {
    "scrolled": true
   },
   "outputs": [
    {
     "name": "stdout",
     "output_type": "stream",
     "text": [
      "tensor([[0.0054, 0.0004, 0.0007,  ..., 0.0004, 0.0019, 0.0018],\n",
      "        [0.0008, 0.0014, 0.0006,  ..., 0.0023, 0.0019, 0.0012],\n",
      "        [0.0009, 0.0003, 0.0001,  ..., 0.0010, 0.0001, 0.0012],\n",
      "        ...,\n",
      "        [0.0003, 0.0003, 0.0036,  ..., 0.0002, 0.0003, 0.0013],\n",
      "        [0.0025, 0.0008, 0.0004,  ..., 0.0016, 0.0007, 0.0005],\n",
      "        [0.0003, 0.0026, 0.0004,  ..., 0.0005, 0.0009, 0.0005]],\n",
      "       device='cuda:0')\n",
      "tensor([[0.0054, 0.0004, 0.0007,  ..., 0.0004, 0.0019, 0.0018],\n",
      "        [0.0008, 0.0014, 0.0006,  ..., 0.0023, 0.0019, 0.0012],\n",
      "        [0.0009, 0.0003, 0.0001,  ..., 0.0010, 0.0001, 0.0012],\n",
      "        ...,\n",
      "        [0.0003, 0.0003, 0.0036,  ..., 0.0002, 0.0003, 0.0013],\n",
      "        [0.0025, 0.0008, 0.0004,  ..., 0.0016, 0.0007, 0.0005],\n",
      "        [0.0003, 0.0026, 0.0004,  ..., 0.0005, 0.0009, 0.0005]],\n",
      "       device='cuda:0')\n",
      "True\n"
     ]
    }
   ],
   "source": [
    "x = torch.randn(1823, 781, device='cuda')\n",
    "y_tri = softmax(x)\n",
    "y_ref = torch.softmax(x, axis=1)\n",
    "print(y_tri)\n",
    "print(y_ref)\n",
    "print(torch.allclose(y_tri, y_ref))"
   ]
  },
  {
   "cell_type": "markdown",
   "id": "regular-andrew",
   "metadata": {},
   "source": [
    "Seems to work!"
   ]
  },
  {
   "cell_type": "markdown",
   "id": "polished-australia",
   "metadata": {},
   "source": [
    "# Writing a Benchmark"
   ]
  },
  {
   "cell_type": "code",
   "execution_count": 74,
   "id": "chubby-audit",
   "metadata": {},
   "outputs": [
    {
     "data": {
      "image/png": "[encoded data removed]",
      "text/plain": [
       "<Figure size 432x288 with 1 Axes>"
      ]
     },
     "metadata": {
      "needs_background": "light"
     },
     "output_type": "display_data"
    }
   ],
   "source": [
    "import matplotlib.pyplot as plt\n",
    "\n",
    "M = 4096\n",
    "Ns = [128*i for i in range(2, 50)]\n",
    "tri_ms = []\n",
    "ref_ms = []\n",
    "def_ms = []\n",
    "for N in Ns:\n",
    "    x = torch.randn(M, N, device='cuda', dtype=torch.float32)\n",
    "    gbps = lambda ms: x.nelement() * x.element_size() * 1e-9 / (ms * 1e-3)\n",
    "    tri_ms += [gbps(triton.testing.do_bench(lambda: softmax(x)))]\n",
    "    ref_ms += [gbps(triton.testing.do_bench(lambda: torch.softmax(x, axis=1)))]\n",
    "    def_ms += [gbps(triton.testing.do_bench(lambda: naive_softmax(x)))]\n",
    "plt.xlabel('N')\n",
    "plt.ylabel('Bandwidth (GB/s)')\n",
    "plt.plot(Ns, tri_ms, label = 'Triton')\n",
    "plt.plot(Ns, ref_ms, label = 'Torch')\n",
    "plt.plot(Ns, def_ms, label = 'Naive')\n",
    "plt.legend()\n",
    "plt.show()"
   ]
  }
 ],
 "metadata": {
  "kernelspec": {
   "display_name": "Python 3",
   "language": "python",
   "name": "python3"
  },
  "language_info": {
   "codemirror_mode": {
    "name": "ipython",
    "version": 3
   },
   "file_extension": ".py",
   "mimetype": "text/x-python",
   "name": "python",
   "nbconvert_exporter": "python",
   "pygments_lexer": "ipython3",
   "version": "3.7.9"
  }
 },
 "nbformat": 4,
 "nbformat_minor": 5
}
